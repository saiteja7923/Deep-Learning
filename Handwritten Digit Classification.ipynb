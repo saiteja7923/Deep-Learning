{
 "cells": [
  {
   "cell_type": "markdown",
   "id": "9def09b8",
   "metadata": {},
   "source": [
    "### Loading the required libraries"
   ]
  },
  {
   "cell_type": "code",
   "execution_count": 5,
   "id": "36f6b820",
   "metadata": {},
   "outputs": [],
   "source": [
    "import tensorflow as tf\n",
    "from tensorflow import keras\n",
    "import matplotlib.pyplot as plt\n",
    "%matplotlib inline\n",
    "import numpy as np"
   ]
  },
  {
   "cell_type": "markdown",
   "id": "40960e1b",
   "metadata": {},
   "source": [
    "### Splitting the data into training and testing sets"
   ]
  },
  {
   "cell_type": "markdown",
   "id": "71ba2cd8",
   "metadata": {},
   "source": [
    " - Here, we are loading the dataset directly from the **keras.datasets** using the **load_data()**"
   ]
  },
  {
   "cell_type": "code",
   "execution_count": 6,
   "id": "eeeb5605",
   "metadata": {},
   "outputs": [],
   "source": [
    "(X_train , y_train), (X_test, y_test) = keras.datasets.mnist.load_data()"
   ]
  },
  {
   "cell_type": "code",
   "execution_count": 7,
   "id": "8d9d0e0e",
   "metadata": {},
   "outputs": [
    {
     "data": {
      "text/plain": [
       "60000"
      ]
     },
     "execution_count": 7,
     "metadata": {},
     "output_type": "execute_result"
    }
   ],
   "source": [
    "len(X_train) # X_train has 60,000 images"
   ]
  },
  {
   "cell_type": "code",
   "execution_count": 8,
   "id": "6d4e7527",
   "metadata": {},
   "outputs": [
    {
     "data": {
      "text/plain": [
       "10000"
      ]
     },
     "execution_count": 8,
     "metadata": {},
     "output_type": "execute_result"
    }
   ],
   "source": [
    "len(X_test) # X_test has 10,000 images"
   ]
  },
  {
   "cell_type": "code",
   "execution_count": 9,
   "id": "42c0641c",
   "metadata": {},
   "outputs": [
    {
     "data": {
      "text/plain": [
       "(28, 28)"
      ]
     },
     "execution_count": 9,
     "metadata": {},
     "output_type": "execute_result"
    }
   ],
   "source": [
    "X_train[0].shape  \n",
    "# This line returns the shape of the image in the training set and it is of 28 x 28 pixels"
   ]
  },
  {
   "cell_type": "code",
   "execution_count": 10,
   "id": "f04d9d32",
   "metadata": {},
   "outputs": [
    {
     "data": {
      "text/plain": [
       "<matplotlib.image.AxesImage at 0x1ebffb892b0>"
      ]
     },
     "execution_count": 10,
     "metadata": {},
     "output_type": "execute_result"
    },
    {
     "data": {
      "image/png": "[encoded data removed]",
      "text/plain": [
       "<Figure size 480x480 with 1 Axes>"
      ]
     },
     "metadata": {},
     "output_type": "display_data"
    }
   ],
   "source": [
    "plt.matshow(X_train[0])    \n",
    "# This line returns the image at position '5' in the training set"
   ]
  },
  {
   "cell_type": "code",
   "execution_count": 11,
   "id": "e48feec1",
   "metadata": {},
   "outputs": [
    {
     "data": {
      "text/plain": [
       "5"
      ]
     },
     "execution_count": 11,
     "metadata": {},
     "output_type": "execute_result"
    }
   ],
   "source": [
    "y_train[0] \n",
    "# This line returns the image at position '5' in the testing set"
   ]
  },
  {
   "cell_type": "markdown",
   "id": "9791e91e",
   "metadata": {},
   "source": [
    "### Scaling the input data (images) to get higher accuracy\n",
    "- Diving each value(pixel) in the input matrix(image) by 255, since each pixel ranges between 0 - 255"
   ]
  },
  {
   "cell_type": "code",
   "execution_count": 12,
   "id": "93dc229e",
   "metadata": {},
   "outputs": [],
   "source": [
    "X_train = X_train/255\n",
    "X_test = X_test/255"
   ]
  },
  {
   "cell_type": "code",
   "execution_count": 13,
   "id": "cef32e07",
   "metadata": {},
   "outputs": [],
   "source": [
    "# X_train[0]"
   ]
  },
  {
   "cell_type": "markdown",
   "id": "c6d55abd",
   "metadata": {},
   "source": [
    "### Next, we should use the reshape() to convert the 2D images into 1 dimension,before training the model. This process is called 'flatten'"
   ]
  },
  {
   "cell_type": "code",
   "execution_count": 14,
   "id": "68220dc5",
   "metadata": {},
   "outputs": [],
   "source": [
    "X_train_flattened = X_train.reshape(len(X_train),28*28)\n",
    "X_test_flattened = X_test.reshape(len(X_test), 28*28)"
   ]
  },
  {
   "cell_type": "code",
   "execution_count": 17,
   "id": "570612fb",
   "metadata": {},
   "outputs": [
    {
     "data": {
      "text/plain": [
       "(60000, 784)"
      ]
     },
     "execution_count": 17,
     "metadata": {},
     "output_type": "execute_result"
    }
   ],
   "source": [
    "X_train_flattened.shape\n",
    "#This gives the shape of the flattened images in the training set. Each imahe has the shape 784 x 1 .i.e. 784 rows and 1 column"
   ]
  },
  {
   "cell_type": "code",
   "execution_count": 18,
   "id": "2997f6d1",
   "metadata": {},
   "outputs": [
    {
     "data": {
      "text/plain": [
       "(10000, 784)"
      ]
     },
     "execution_count": 18,
     "metadata": {},
     "output_type": "execute_result"
    }
   ],
   "source": [
    "X_test_flattened.shape   # here 10,000 represents the no. of images in the testing set"
   ]
  },
  {
   "cell_type": "markdown",
   "id": "52e1d82b",
   "metadata": {},
   "source": [
    "## Defining the Neural Network\n",
    "- The below is the template to create and train the neural netwrok\n",
    "- In the below code:\n",
    "          - **'10'** represents the no. of neurons in the output layer\n",
    "          - **input_shape = (784,)** represents that there are 784 neurons in the input layer\n",
    "          - **'sigmoid'** represents the type of activation function used"
   ]
  },
  {
   "cell_type": "code",
   "execution_count": null,
   "id": "94111ab9",
   "metadata": {},
   "outputs": [],
   "source": []
  },
  {
   "cell_type": "code",
   "execution_count": 20,
   "id": "0108db2d",
   "metadata": {},
   "outputs": [
    {
     "name": "stdout",
     "output_type": "stream",
     "text": [
      "Epoch 1/5\n",
      "1875/1875 [==============================] - 2s 1ms/step - loss: 0.4706 - accuracy: 0.8765\n",
      "Epoch 2/5\n",
      "1875/1875 [==============================] - 2s 1ms/step - loss: 0.3043 - accuracy: 0.9150\n",
      "Epoch 3/5\n",
      "1875/1875 [==============================] - 2s 1ms/step - loss: 0.2833 - accuracy: 0.9210\n",
      "Epoch 4/5\n",
      "1875/1875 [==============================] - 2s 1ms/step - loss: 0.2731 - accuracy: 0.9238\n",
      "Epoch 5/5\n",
      "1875/1875 [==============================] - 2s 1ms/step - loss: 0.2666 - accuracy: 0.9257\n"
     ]
    },
    {
     "data": {
      "text/plain": [
       "<tensorflow.python.keras.callbacks.History at 0x1ebfd7ec8b0>"
      ]
     },
     "execution_count": 20,
     "metadata": {},
     "output_type": "execute_result"
    }
   ],
   "source": [
    "model = keras.Sequential([\n",
    "    keras.layers.Dense(10, input_shape = (784,), activation='sigmoid')\n",
    "])\n",
    "\n",
    "model.compile(\n",
    "    optimizer = 'adam',\n",
    "    loss = 'sparse_categorical_crossentropy',\n",
    "    metrics = ['accuracy']\n",
    ")\n",
    "\n",
    "model.fit(X_train_flattened, y_train, epochs = 5)"
   ]
  },
  {
   "cell_type": "markdown",
   "id": "a0937361",
   "metadata": {},
   "source": [
    "- Now, evaluating the model using the test data"
   ]
  },
  {
   "cell_type": "code",
   "execution_count": 23,
   "id": "07f3bb5b",
   "metadata": {},
   "outputs": [
    {
     "name": "stdout",
     "output_type": "stream",
     "text": [
      "313/313 [==============================] - 0s 1ms/step - loss: 0.2656 - accuracy: 0.9263\n"
     ]
    },
    {
     "data": {
      "text/plain": [
       "[0.2655518054962158, 0.9262999892234802]"
      ]
     },
     "execution_count": 23,
     "metadata": {},
     "output_type": "execute_result"
    }
   ],
   "source": [
    "model.evaluate(X_test_flattened,y_test)"
   ]
  },
  {
   "cell_type": "markdown",
   "id": "0e1ed5cf",
   "metadata": {},
   "source": [
    "### Therefore. the accuray opf the model is 92.6% over the test data"
   ]
  },
  {
   "cell_type": "markdown",
   "id": "33f1f1c5",
   "metadata": {},
   "source": [
    "## Predicting on test data \n",
    "- we are using the predict() to predict the output values of the test data"
   ]
  },
  {
   "cell_type": "code",
   "execution_count": 24,
   "id": "0a3ef86e",
   "metadata": {},
   "outputs": [],
   "source": [
    "y_pred = model.predict(X_test_flattened)"
   ]
  },
  {
   "cell_type": "code",
   "execution_count": 33,
   "id": "565cfc33",
   "metadata": {
    "scrolled": true
   },
   "outputs": [
    {
     "data": {
      "text/plain": [
       "array([2.3049298e-01, 1.0200977e-02, 9.9904448e-01, 4.0087280e-01,\n",
       "       6.9999595e-10, 8.7250602e-01, 8.7662601e-01, 5.8657690e-13,\n",
       "       1.6799062e-01, 1.6890517e-09], dtype=float32)"
      ]
     },
     "execution_count": 33,
     "metadata": {},
     "output_type": "execute_result"
    }
   ],
   "source": [
    "y_pred[1] "
   ]
  },
  {
   "cell_type": "code",
   "execution_count": 35,
   "id": "10a582e8",
   "metadata": {},
   "outputs": [
    {
     "data": {
      "text/plain": [
       "2"
      ]
     },
     "execution_count": 35,
     "metadata": {},
     "output_type": "execute_result"
    }
   ],
   "source": [
    "np.argmax(y_pred[1])  # This gives the predicted output as a \"whole\" number"
   ]
  },
  {
   "cell_type": "code",
   "execution_count": 36,
   "id": "bce637f7",
   "metadata": {},
   "outputs": [
    {
     "data": {
      "text/plain": [
       "2"
      ]
     },
     "execution_count": 36,
     "metadata": {},
     "output_type": "execute_result"
    }
   ],
   "source": [
    "y_test[1] # This gives the actual output of in test data "
   ]
  },
  {
   "cell_type": "code",
   "execution_count": 37,
   "id": "8f0dfcb1",
   "metadata": {},
   "outputs": [
    {
     "data": {
      "text/plain": [
       "<matplotlib.image.AxesImage at 0x1ebfeaa4bb0>"
      ]
     },
     "execution_count": 37,
     "metadata": {},
     "output_type": "execute_result"
    },
    {
     "data": {
      "image/png": "[encoded data removed]",
      "text/plain": [
       "<Figure size 480x480 with 1 Axes>"
      ]
     },
     "metadata": {},
     "output_type": "display_data"
    }
   ],
   "source": [
    "plt.matshow(X_test[1]) # This gives the actual input of in test data "
   ]
  },
  {
   "cell_type": "markdown",
   "id": "800acc88",
   "metadata": {},
   "source": [
    "### Since, the predicted ouput \"y_pred\" is a vector of decimals, we need to convert all the ouptut vector into whole numbers to get the  confusion matrix"
   ]
  },
  {
   "cell_type": "code",
   "execution_count": 38,
   "id": "181ffa4a",
   "metadata": {},
   "outputs": [],
   "source": [
    "y_pred_labels = [np.argmax(i) for i in y_pred]"
   ]
  },
  {
   "cell_type": "code",
   "execution_count": 39,
   "id": "4eb2bac6",
   "metadata": {},
   "outputs": [
    {
     "data": {
      "text/plain": [
       "2"
      ]
     },
     "execution_count": 39,
     "metadata": {},
     "output_type": "execute_result"
    }
   ],
   "source": [
    "y_pred_labels[1]"
   ]
  },
  {
   "cell_type": "code",
   "execution_count": 40,
   "id": "2f553f68",
   "metadata": {},
   "outputs": [],
   "source": [
    "con_matrix = tf.math.confusion_matrix(labels = y_test , predictions = y_pred_labels)"
   ]
  },
  {
   "cell_type": "code",
   "execution_count": 41,
   "id": "432569c3",
   "metadata": {},
   "outputs": [
    {
     "data": {
      "text/plain": [
       "<tf.Tensor: shape=(10, 10), dtype=int32, numpy=\n",
       "array([[ 950,    0,    3,    2,    0,    6,   13,    2,    3,    1],\n",
       "       [   0, 1110,    3,    2,    0,    1,    4,    2,   13,    0],\n",
       "       [   3,   10,  919,   19,   10,    5,   14,    9,   39,    4],\n",
       "       [   1,    0,   13,  920,    0,   30,    3,   10,   24,    9],\n",
       "       [   1,    1,    2,    1,  917,    0,   12,    3,   11,   34],\n",
       "       [   7,    3,    2,   24,    8,  793,   14,    3,   31,    7],\n",
       "       [   7,    3,    5,    1,    7,   11,  919,    2,    3,    0],\n",
       "       [   1,    5,   22,    8,    9,    1,    0,  940,    4,   38],\n",
       "       [   3,    9,    5,   18,    9,   30,    9,    8,  875,    8],\n",
       "       [   8,    7,    1,   10,   27,   11,    1,   17,    7,  920]])>"
      ]
     },
     "execution_count": 41,
     "metadata": {},
     "output_type": "execute_result"
    }
   ],
   "source": [
    "con_matrix"
   ]
  },
  {
   "cell_type": "code",
   "execution_count": 42,
   "id": "8ec26308",
   "metadata": {
    "scrolled": false
   },
   "outputs": [
    {
     "data": {
      "text/plain": [
       "Text(58.222222222222214, 0.5, 'Truth')"
      ]
     },
     "execution_count": 42,
     "metadata": {},
     "output_type": "execute_result"
    },
    {
     "data": {
      "image/png": "[encoded data removed]",
      "text/plain": [
       "<Figure size 700x500 with 2 Axes>"
      ]
     },
     "metadata": {},
     "output_type": "display_data"
    }
   ],
   "source": [
    "import seaborn as sn\n",
    "plt.figure(figsize = (7,5))\n",
    "sn.heatmap(con_matrix, annot = True, fmt = 'd')\n",
    "plt.xlabel('Predicted')\n",
    "plt.ylabel('Truth')"
   ]
  },
  {
   "cell_type": "markdown",
   "id": "65cfa42f",
   "metadata": {},
   "source": [
    "### Now, we will be adding a hidden layer to the neural network and change the activation function to see whether the model improves"
   ]
  },
  {
   "cell_type": "code",
   "execution_count": 43,
   "id": "706a2956",
   "metadata": {},
   "outputs": [
    {
     "name": "stdout",
     "output_type": "stream",
     "text": [
      "Epoch 1/5\n",
      "1875/1875 [==============================] - 4s 2ms/step - loss: 0.2579 - accuracy: 0.9252\n",
      "Epoch 2/5\n",
      "1875/1875 [==============================] - 3s 2ms/step - loss: 0.1101 - accuracy: 0.9671\n",
      "Epoch 3/5\n",
      "1875/1875 [==============================] - 3s 2ms/step - loss: 0.0804 - accuracy: 0.9747\n",
      "Epoch 4/5\n",
      "1875/1875 [==============================] - 3s 2ms/step - loss: 0.0619 - accuracy: 0.9810\n",
      "Epoch 5/5\n",
      "1875/1875 [==============================] - 3s 1ms/step - loss: 0.0481 - accuracy: 0.9846\n"
     ]
    },
    {
     "data": {
      "text/plain": [
       "<tensorflow.python.keras.callbacks.History at 0x1ebf71e5520>"
      ]
     },
     "execution_count": 43,
     "metadata": {},
     "output_type": "execute_result"
    }
   ],
   "source": [
    "model = keras.Sequential([\n",
    "    keras.layers.Dense(100, input_shape = (784,), activation='relu'),\n",
    "    keras.layers.Dense(50,activation='relu'),        # hidden layer\n",
    "    keras.layers.Dense(10, activation='sigmoid')\n",
    "])\n",
    "\n",
    "model.compile(\n",
    "    optimizer = 'adam',\n",
    "    loss = 'sparse_categorical_crossentropy',\n",
    "    metrics = ['accuracy']\n",
    ")\n",
    "\n",
    "model.fit(X_train_flattened, y_train, epochs = 5)"
   ]
  },
  {
   "cell_type": "code",
   "execution_count": 44,
   "id": "7ce78f9a",
   "metadata": {},
   "outputs": [
    {
     "name": "stdout",
     "output_type": "stream",
     "text": [
      "313/313 [==============================] - 1s 2ms/step - loss: 0.0912 - accuracy: 0.9727\n"
     ]
    },
    {
     "data": {
      "text/plain": [
       "[0.09119080007076263, 0.9726999998092651]"
      ]
     },
     "execution_count": 44,
     "metadata": {},
     "output_type": "execute_result"
    }
   ],
   "source": [
    "model.evaluate(X_test_flattened,y_test)"
   ]
  },
  {
   "cell_type": "markdown",
   "id": "4a12d0c8",
   "metadata": {},
   "source": [
    "### The accuracy of the model has increased to 97%"
   ]
  },
  {
   "cell_type": "code",
   "execution_count": 45,
   "id": "32cc20af",
   "metadata": {},
   "outputs": [
    {
     "data": {
      "text/plain": [
       "Text(58.222222222222214, 0.5, 'Truth')"
      ]
     },
     "execution_count": 45,
     "metadata": {},
     "output_type": "execute_result"
    },
    {
     "data": {
      "image/png": "[encoded data removed]",
      "text/plain": [
       "<Figure size 700x500 with 2 Axes>"
      ]
     },
     "metadata": {},
     "output_type": "display_data"
    }
   ],
   "source": [
    "y_pred = model.predict(X_test_flattened)\n",
    "y_pred_labels = [np.argmax(i) for i in y_pred]\n",
    "\n",
    "con_matrix = tf.math.confusion_matrix(labels = y_test , predictions = y_pred_labels)\n",
    "\n",
    "plt.figure(figsize = (7,5))\n",
    "sn.heatmap(con_matrix, annot = True, fmt = 'd')\n",
    "plt.xlabel('Predicted')\n",
    "plt.ylabel('Truth')"
   ]
  },
  {
   "cell_type": "code",
   "execution_count": null,
   "id": "39a51a59",
   "metadata": {},
   "outputs": [],
   "source": []
  }
 ],
 "metadata": {
  "kernelspec": {
   "display_name": "Python 3 (ipykernel)",
   "language": "python",
   "name": "python3"
  },
  "language_info": {
   "codemirror_mode": {
    "name": "ipython",
    "version": 3
   },
   "file_extension": ".py",
   "mimetype": "text/x-python",
   "name": "python",
   "nbconvert_exporter": "python",
   "pygments_lexer": "ipython3",
   "version": "3.9.13"
  }
 },
 "nbformat": 4,
 "nbformat_minor": 5
}
